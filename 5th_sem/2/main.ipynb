{
 "cells": [
  {
   "cell_type": "code",
   "execution_count": 57,
   "metadata": {},
   "outputs": [],
   "source": [
    "import json\n",
    "import numpy as np\n",
    "import math\n",
    "import os"
   ]
  },
  {
   "cell_type": "code",
   "execution_count": 58,
   "metadata": {},
   "outputs": [
    {
     "name": "stdout",
     "output_type": "stream",
     "text": [
      "Таблица игры:\n",
      "[[-2 -2  0]\n",
      " [-2  0 -1]\n",
      " [ 0 -1 -1]]\n"
     ]
    }
   ],
   "source": [
    "# game_file_name = 'pure_strategy_game.json'\n",
    "game_file_name = 'mixed_strategy_game.json'\n",
    "\n",
    "with open(game_file_name, 'r') as f:\n",
    "    game = np.array(json.load(f)['game_matrix'])\n",
    "    M, N = len(game), len(game[0])\n",
    "\n",
    "print(f'Таблица игры:')\n",
    "print(game)"
   ]
  },
  {
   "cell_type": "code",
   "execution_count": 59,
   "metadata": {},
   "outputs": [
    {
     "name": "stdout",
     "output_type": "stream",
     "text": [
      "Упрощенная таблица игры\n",
      "[[-2 -2  0]\n",
      " [-2  0 -1]\n",
      " [ 0 -1 -1]]\n"
     ]
    }
   ],
   "source": [
    "def simplify_game(game):\n",
    "    def simplify_game_rows(game, lte):\n",
    "        dominated_is = set()\n",
    "        for dominant_i in range(0, M):\n",
    "            for dominated_i in range(0, M):\n",
    "                if dominant_i != dominated_i and all(lte(game[dominated_i], game[dominant_i])):\n",
    "                    dominated_is.add(dominated_i)\n",
    "\n",
    "        return dominated_is\n",
    "        \n",
    "    dominated_is = list(simplify_game_rows(game, lte=np.less_equal))\n",
    "    dominated_js = list(simplify_game_rows(game.T, lte=np.greater_equal))\n",
    "\n",
    "    game = np.delete(game, dominated_is, axis=0)\n",
    "    game = np.delete(game, dominated_js, axis=1)\n",
    "\n",
    "    return game\n",
    "\n",
    "game = simplify_game(game)\n",
    "M, N = len(game), len(game[0])\n",
    "\n",
    "print('Упрощенная таблица игры')\n",
    "print(game)"
   ]
  },
  {
   "cell_type": "code",
   "execution_count": 60,
   "metadata": {},
   "outputs": [
    {
     "name": "stdout",
     "output_type": "stream",
     "text": [
      "Решение в чистых стратегиях\n",
      "None\n"
     ]
    }
   ],
   "source": [
    "def find_pure_strategy_equilibrium(game):\n",
    "    row_mins = np.min(game, axis=1)\n",
    "    maximin_i = np.argmax(row_mins)\n",
    "    maximin = row_mins[maximin_i]\n",
    "\n",
    "    column_maxs = np.max(game, axis=0)\n",
    "    minimax_j = np.argmin(column_maxs)\n",
    "    minimax = column_maxs[minimax_j]\n",
    "\n",
    "    if maximin == minimax:\n",
    "        return maximin_i, minimax_j\n",
    "    \n",
    "    return None\n",
    "\n",
    "print('Решение в чистых стратегиях')\n",
    "print(find_pure_strategy_equilibrium(game))"
   ]
  },
  {
   "cell_type": "code",
   "execution_count": 61,
   "metadata": {},
   "outputs": [
    {
     "name": "stdout",
     "output_type": "stream",
     "text": [
      "Неотрицательная матрица игры\n",
      "[[1 1 3]\n",
      " [1 3 2]\n",
      " [3 2 2]]\n",
      "\n",
      "x: [0.14285714 0.28571429 0.57142857]\n",
      "y = [0.14285714 0.28571429 0.57142857]\n",
      "v = -0.8571428571428572\n"
     ]
    }
   ],
   "source": [
    "def find_mixed_strategy_equilibrium(game): \n",
    "\n",
    "    def run_simplex(goal='max'):\n",
    "        lin_system = {\n",
    "            'f': [1] * N,\n",
    "            'goal': goal,\n",
    "            'constraints': [\n",
    "                {\n",
    "                    \"coefs\": list([int(x) for x in game[i]]),\n",
    "                    \"type\": \"lte\" if goal == 'max' else 'gte',\n",
    "                    \"b\": 1\n",
    "                } for i in range(M)\n",
    "            ]\n",
    "        }\n",
    "\n",
    "        with open(f'lin_system_{goal}.json', 'w+') as f:\n",
    "            json.dump(lin_system, f)\n",
    "\n",
    "        exit_code = os.system('py simplex.py -f lin_system_max.json')\n",
    "        if exit_code != 0:\n",
    "            print(f'gateway error: simplex exit code {exit_code}')\n",
    "            return None\n",
    "\n",
    "        with open('simplex_answer.json', 'r') as f:\n",
    "            answer = json.load(f)['answer']\n",
    "\n",
    "        return answer\n",
    "    \n",
    "    if game.min() < 0:\n",
    "        added_value = abs(game.min())+1\n",
    "        print('Неотрицательная матрица игры')\n",
    "        game = game + added_value\n",
    "        print(game, end='\\n\\n')\n",
    "\n",
    "    q = run_simplex(goal='max')\n",
    "    x = np.array(q) / sum(q)\n",
    "    y = x\n",
    "    v = (1 / sum(q)) - added_value\n",
    "\n",
    "    return x, y, v\n",
    "\n",
    "x, y, v = find_mixed_strategy_equilibrium(game)\n",
    "print(f'x: {x}')\n",
    "print(f'y = {y}')\n",
    "print(f'v = {v}')"
   ]
  }
 ],
 "metadata": {
  "kernelspec": {
   "display_name": "Python 3",
   "language": "python",
   "name": "python3"
  },
  "language_info": {
   "codemirror_mode": {
    "name": "ipython",
    "version": 3
   },
   "file_extension": ".py",
   "mimetype": "text/x-python",
   "name": "python",
   "nbconvert_exporter": "python",
   "pygments_lexer": "ipython3",
   "version": "3.10.0"
  }
 },
 "nbformat": 4,
 "nbformat_minor": 2
}
